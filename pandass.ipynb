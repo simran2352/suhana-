{
  "nbformat": 4,
  "nbformat_minor": 0,
  "metadata": {
    "colab": {
      "provenance": [],
      "authorship_tag": "ABX9TyMuAtTntRvAPE2W/t7IrxcP",
      "include_colab_link": true
    },
    "kernelspec": {
      "name": "python3",
      "display_name": "Python 3"
    },
    "language_info": {
      "name": "python"
    }
  },
  "cells": [
    {
      "cell_type": "markdown",
      "metadata": {
        "id": "view-in-github",
        "colab_type": "text"
      },
      "source": [
        "<a href=\"https://colab.research.google.com/github/simran2352/suhana-/blob/main/pandass.ipynb\" target=\"_parent\"><img src=\"https://colab.research.google.com/assets/colab-badge.svg\" alt=\"Open In Colab\"/></a>"
      ]
    },
    {
      "cell_type": "code",
      "execution_count": null,
      "metadata": {
        "colab": {
          "base_uri": "https://localhost:8080/"
        },
        "id": "xL-QFwhULN6M",
        "outputId": "a5806205-34e0-45c0-ae5f-a8bf6a205d5d"
      },
      "outputs": [
        {
          "output_type": "stream",
          "name": "stdout",
          "text": [
            "multiply two series:\n",
            "0     2\n",
            "1    12\n",
            "2    56\n",
            "3    90\n",
            "dtype: int64\n",
            "divide series1 by series2:\n",
            "0    2.000000\n",
            "1    1.333333\n",
            "2    1.142857\n",
            "3    1.111111\n",
            "dtype: float64\n"
          ]
        }
      ],
      "source": [
        "import pandas as pd\n",
        "ds1=pd.Series([2,4,8,10])\n",
        "ds2=pd.Series([1,3,7,9])\n",
        "print(\"multiply two series:\")\n",
        "ds=ds1*ds2\n",
        "print(ds)\n",
        "print(\"divide series1 by series2:\")\n",
        "ds=ds1/ds2\n",
        "print(ds)"
      ]
    },
    {
      "cell_type": "code",
      "source": [
        "import pandas as pd\n",
        "d1={'a':100,'b':200,'c':300}\n",
        "print(\"original dictionary\")\n",
        "print(d1)\n",
        "new_Series=pd.Series(d1)\n",
        "print(\"converted series:\")\n",
        "print(new_Series)"
      ],
      "metadata": {
        "colab": {
          "base_uri": "https://localhost:8080/"
        },
        "id": "6144EaZ0NTi1",
        "outputId": "b1692f84-df88-4202-b65c-c3a7c55980dd"
      },
      "execution_count": null,
      "outputs": [
        {
          "output_type": "stream",
          "name": "stdout",
          "text": [
            "original dictionary\n",
            "{'a': 100, 'b': 200, 'c': 300}\n",
            "converted series:\n",
            "a    100\n",
            "b    200\n",
            "c    300\n",
            "dtype: int64\n"
          ]
        }
      ]
    },
    {
      "cell_type": "code",
      "source": [
        "import pandas as pd\n",
        "S=pd.Series([400,300.12,100,200])\n",
        "print(\"original data series:\")\n",
        "print(S)\n",
        "new_S=pd.Series(S).sort_values()\n",
        "print(new_S)"
      ],
      "metadata": {
        "colab": {
          "base_uri": "https://localhost:8080/"
        },
        "id": "aTEW0TQvPT0b",
        "outputId": "24effbd2-3686-41fe-a0f2-8292bfe8431f"
      },
      "execution_count": null,
      "outputs": [
        {
          "output_type": "stream",
          "name": "stdout",
          "text": [
            "original data series:\n",
            "0    400.00\n",
            "1    300.12\n",
            "2    100.00\n",
            "3    200.00\n",
            "dtype: float64\n",
            "2    100.00\n",
            "3    200.00\n",
            "1    300.12\n",
            "0    400.00\n",
            "dtype: float64\n"
          ]
        }
      ]
    },
    {
      "cell_type": "code",
      "source": [
        "import pandas as pd\n",
        "S=pd.Series(data=[1,2,3],index=['A','B','C'])\n",
        "print(\"original data Series:\")\n",
        "print(S)\n",
        "S=S.reindex(index=['B','A','C'])\n",
        "print(\"data Series after changing the order of index:\")\n",
        "print(S)"
      ],
      "metadata": {
        "id": "u0O-7U_HR19y",
        "colab": {
          "base_uri": "https://localhost:8080/"
        },
        "outputId": "545b05d6-c658-41c2-9141-af8b93d1bacd"
      },
      "execution_count": null,
      "outputs": [
        {
          "output_type": "stream",
          "name": "stdout",
          "text": [
            "original data Series:\n",
            "A    1\n",
            "B    2\n",
            "C    3\n",
            "dtype: int64\n",
            "data Series after changing the order of index:\n",
            "B    2\n",
            "A    1\n",
            "C    3\n",
            "dtype: int64\n"
          ]
        }
      ]
    },
    {
      "cell_type": "code",
      "source": [
        "import pandas as pd\n",
        "import numpy as np\n",
        "sr1=pd.Series([1,2,3])\n",
        "sr2=pd.Series([2,3,6])\n",
        "print(\"original Series:\")\n",
        "print(\"sr1:\")\n",
        "print(sr1)\n",
        "print(\"sr2:\")\n",
        "print(sr2)\n",
        "print(\"\\n items of a given Series not present in another given Series:\")\n",
        "sr11=pd.Series(np.union1d(sr1,sr2))\n",
        "sr22=pd.Series(np.intersect1d(sr1,sr2))\n",
        "result=sr11[~sr11.isin(sr22)]\n",
        "print(result)"
      ],
      "metadata": {
        "colab": {
          "base_uri": "https://localhost:8080/"
        },
        "id": "cYXdq4U3WotU",
        "outputId": "db29a1e7-f788-47a8-a045-8158eb63eff5"
      },
      "execution_count": null,
      "outputs": [
        {
          "output_type": "stream",
          "name": "stdout",
          "text": [
            "original Series:\n",
            "sr1:\n",
            "0    1\n",
            "1    2\n",
            "2    3\n",
            "dtype: int64\n",
            "sr2:\n",
            "0    2\n",
            "1    3\n",
            "2    6\n",
            "dtype: int64\n",
            "\n",
            " items of a given Series not present in another given Series:\n",
            "0    1\n",
            "3    6\n",
            "dtype: int64\n"
          ]
        }
      ]
    },
    {
      "cell_type": "code",
      "source": [
        "import pandas as pd\n",
        "import numpy as np\n",
        "exam_data={'name':['manish','dhiraj'],'score':[12.5,9]}\n",
        "labels=['NAME','SCORE']\n",
        "df=pd.DataFrame(exam_data,index=labels)\n",
        "print(df)"
      ],
      "metadata": {
        "colab": {
          "base_uri": "https://localhost:8080/"
        },
        "id": "hR-YatjNSaRX",
        "outputId": "f4d9881b-546c-41b8-bdfa-854035d2cb76"
      },
      "execution_count": null,
      "outputs": [
        {
          "output_type": "stream",
          "name": "stdout",
          "text": [
            "         name  score\n",
            "NAME   manish   12.5\n",
            "SCORE  dhiraj    9.0\n"
          ]
        }
      ]
    },
    {
      "cell_type": "code",
      "source": [
        "import pandas as pd\n",
        "import numpy as np\n",
        "exam_data={'name':['manish','dhiraj','man','dhir'],'score':[12.5,91,2.5,9]}\n",
        "df=pd.DataFrame(exam_data)\n",
        "print(\"first three rows of dataframe\")\n",
        "print(df.iloc[:3])"
      ],
      "metadata": {
        "colab": {
          "base_uri": "https://localhost:8080/"
        },
        "outputId": "fe1a933b-82ba-416f-c976-f0d8e8645779",
        "id": "dFH3aX5TWSkb"
      },
      "execution_count": null,
      "outputs": [
        {
          "output_type": "stream",
          "name": "stdout",
          "text": [
            "first three rows of dataframe\n",
            "     name  score\n",
            "0  manish   12.5\n",
            "1  dhiraj   91.0\n",
            "2     man    2.5\n"
          ]
        }
      ]
    },
    {
      "cell_type": "code",
      "source": [
        "import pandas as pd\n",
        "import numpy as np\n",
        "exam_data={'name':['manish','dhiraj','man','dhir'],'score':[12.5,91,2.5,9]}\n",
        "df=pd.DataFrame(exam_data)\n",
        "total_rows=len(df.axes[0])\n",
        "total_cols=len(df.axes[1])\n",
        "print(\"number of rows:\"+str(total_rows))\n",
        "print(\"total numbers of cols:\"+str(total_cols))"
      ],
      "metadata": {
        "colab": {
          "base_uri": "https://localhost:8080/"
        },
        "outputId": "99a3a7e3-6257-43cb-872d-eb5e5f2a6421",
        "id": "kwBnQ8W2YL3b"
      },
      "execution_count": null,
      "outputs": [
        {
          "output_type": "stream",
          "name": "stdout",
          "text": [
            "number of rows:4\n",
            "total numbers of cols:2\n"
          ]
        }
      ]
    },
    {
      "cell_type": "code",
      "source": [
        "import pandas as pd\n",
        "import numpy as np\n",
        "exam_data={'name':['manish','dhiraj','man','dhir'],'score':[12.5,91,20.5,19]}\n",
        "df=pd.DataFrame(exam_data)\n",
        "print(\"rows where score between 15and20\")\n",
        "print(df[df['score'].between(15,20)])"
      ],
      "metadata": {
        "colab": {
          "base_uri": "https://localhost:8080/"
        },
        "id": "oS5NUqQXnUDy",
        "outputId": "6bf38c4d-f31b-4857-96ae-e0aadf0d99eb"
      },
      "execution_count": null,
      "outputs": [
        {
          "output_type": "stream",
          "name": "stdout",
          "text": [
            "rows where score between 15and20\n",
            "   name  score\n",
            "3  dhir   19.0\n"
          ]
        }
      ]
    },
    {
      "cell_type": "code",
      "source": [
        "import pandas as pd\n",
        "import numpy as np\n",
        "exam_data = {'name': ['Manish', 'Dhiraj','Man', 'Dhir'],\n",
        " 'score': [12.5, 91,20.5, 19]}\n",
        "df = pd.DataFrame(exam_data )\n",
        "result_sort=df.sort_values(by=['name','score'], ascending=[True,\n",
        "True])\n",
        "print(\"Sort the DataFrame first by 'name' in descending order, then by'score' in ascending order:\")\n",
        "print(result_sort)"
      ],
      "metadata": {
        "id": "rqUzyYgUtSMN",
        "colab": {
          "base_uri": "https://localhost:8080/"
        },
        "outputId": "04854df8-2df3-4bf9-b007-660a6902edfc"
      },
      "execution_count": null,
      "outputs": [
        {
          "output_type": "stream",
          "name": "stdout",
          "text": [
            "Sort the DataFrame first by 'name' in descending order, then by'score' in ascending order:\n",
            "     name  score\n",
            "3    Dhir   19.0\n",
            "1  Dhiraj   91.0\n",
            "2     Man   20.5\n",
            "0  Manish   12.5\n"
          ]
        }
      ]
    },
    {
      "cell_type": "code",
      "source": [
        "import pandas as pd\n",
        "import numpy as np\n",
        "exam_data = {'name': ['Manish', 'Dhiraj','Man', 'Dhir'],\n",
        " 'score': [12.5, 91,20.5, 19]}\n",
        "df = pd.DataFrame(exam_data )\n",
        "df['name'] = df['name'].replace('Manish', 'Anish')\n",
        "print(df)"
      ],
      "metadata": {
        "colab": {
          "base_uri": "https://localhost:8080/"
        },
        "id": "RwhR1USUOoe4",
        "outputId": "7f1dd3c9-f50d-4cb1-b600-b5e4810a0305"
      },
      "execution_count": null,
      "outputs": [
        {
          "output_type": "stream",
          "name": "stdout",
          "text": [
            "     name  score\n",
            "0   Anish   12.5\n",
            "1  Dhiraj   91.0\n",
            "2     Man   20.5\n",
            "3    Dhir   19.0\n"
          ]
        }
      ]
    },
    {
      "cell_type": "code",
      "source": [
        "import pandas as pd\n",
        "import numpy as np\n",
        "exam_data = {'name': ['Manish', 'Dhiraj','Man', 'Dhir'],\n",
        " 'score': [12.5, 91,20.5, 19]}\n",
        "df = pd.DataFrame(exam_data )\n",
        "medium = ['english','hindi','hindi','english']\n",
        "df['medium'] = medium\n",
        "print(\"\\nNew DataFrame after inserting the 'medium' column\")\n",
        "print(df)"
      ],
      "metadata": {
        "colab": {
          "base_uri": "https://localhost:8080/"
        },
        "id": "wwDxCcAUOzz1",
        "outputId": "8eb9fdb6-8f80-424e-e014-3658cee8f04b"
      },
      "execution_count": null,
      "outputs": [
        {
          "output_type": "stream",
          "name": "stdout",
          "text": [
            "\n",
            "New DataFrame after inserting the 'medium' column\n",
            "     name  score   medium\n",
            "0  Manish   12.5  english\n",
            "1  Dhiraj   91.0    hindi\n",
            "2     Man   20.5    hindi\n",
            "3    Dhir   19.0  english\n"
          ]
        }
      ]
    },
    {
      "cell_type": "code",
      "source": [
        "import numpy as np\n",
        "exam_data = {'name': ['Manish', 'Dhiraj','Man', 'Dhir'],\n",
        " 'score': [12.5, 91,20.5, 19]}\n",
        "df = pd.DataFrame(exam_data )\n",
        "df = df.rename(columns={'name': 'NAME', 'score': 'SCORE'})\n",
        "print(\"New DataFrame after renaming columns:\")\n",
        "print(df)"
      ],
      "metadata": {
        "colab": {
          "base_uri": "https://localhost:8080/"
        },
        "id": "sbUTm6tcO152",
        "outputId": "85c79de9-2bfa-4ee8-dbd6-71ea2e8b2477"
      },
      "execution_count": null,
      "outputs": [
        {
          "output_type": "stream",
          "name": "stdout",
          "text": [
            "New DataFrame after renaming columns:\n",
            "     NAME  SCORE\n",
            "0  Manish   12.5\n",
            "1  Dhiraj   91.0\n",
            "2     Man   20.5\n",
            "3    Dhir   19.0\n"
          ]
        }
      ]
    },
    {
      "cell_type": "code",
      "source": [
        "import pandas as pd\n",
        "import numpy as np\n",
        "exam_data = {'name': ['Manish', 'Dhiraj','Man', 'Dhir'],\n",
        " 'score': [12.5, 91,20.5, 19]}\n",
        "df = pd.DataFrame(exam_data )\n",
        "df = df[df.score >= 20]\n",
        "print(\"New DataFrame\")\n",
        "print(df)"
      ],
      "metadata": {
        "colab": {
          "base_uri": "https://localhost:8080/"
        },
        "id": "ZhxEEIULPCvr",
        "outputId": "ff55cc10-5745-49e9-bb33-62bf08791774"
      },
      "execution_count": null,
      "outputs": [
        {
          "output_type": "stream",
          "name": "stdout",
          "text": [
            "New DataFrame\n",
            "     name  score\n",
            "1  Dhiraj   91.0\n",
            "2     Man   20.5\n"
          ]
        }
      ]
    },
    {
      "cell_type": "code",
      "source": [
        "import pandas as pd\n",
        "import numpy as np\n",
        "s1 = pd.Series(['100', '200', '400'])\n",
        "s2 = pd.Series(['10', '20', '40'])\n",
        "print(\"Data Series:\")\n",
        "print(s1)\n",
        "print(s2)\n",
        "df = pd.concat([s1, s2], axis=1)\n",
        "print(\"New DataFrame combining two series:\")\n",
        "print(df)"
      ],
      "metadata": {
        "colab": {
          "base_uri": "https://localhost:8080/"
        },
        "id": "4ZH4rAEEPl6W",
        "outputId": "18275d7a-f5ae-40c4-d3fe-32dd1bd42a40"
      },
      "execution_count": null,
      "outputs": [
        {
          "output_type": "stream",
          "name": "stdout",
          "text": [
            "Data Series:\n",
            "0    100\n",
            "1    200\n",
            "2    400\n",
            "dtype: object\n",
            "0    10\n",
            "1    20\n",
            "2    40\n",
            "dtype: object\n",
            "New DataFrame combining two series:\n",
            "     0   1\n",
            "0  100  10\n",
            "1  200  20\n",
            "2  400  40\n"
          ]
        }
      ]
    },
    {
      "cell_type": "code",
      "source": [
        "import pandas as pd\n",
        "import numpy as np\n",
        "s1 = pd.Series(['100', '200', '400'])\n",
        "s2 = pd.Series(['10', '20', '40'])\n",
        "df = pd.concat([s1, s2], axis=1)\n",
        "print(\"Value of Row4\")\n",
        "print(df.iloc[2])"
      ],
      "metadata": {
        "colab": {
          "base_uri": "https://localhost:8080/"
        },
        "id": "shFYk9OePwSs",
        "outputId": "e61c5b97-9590-41b5-aaef-f925c5d4c552"
      },
      "execution_count": null,
      "outputs": [
        {
          "output_type": "stream",
          "name": "stdout",
          "text": [
            "Value of Row4\n",
            "0    400\n",
            "1     40\n",
            "Name: 2, dtype: object\n"
          ]
        }
      ]
    },
    {
      "cell_type": "code",
      "source": [
        "import pandas as pd\n",
        "import numpy as np\n",
        "s1 = pd.Series(['100', '200', '400'])\n",
        "s2 = pd.Series(['10', '20', '40'])\n",
        "df = pd.concat([s1, s2], axis=1)\n",
        "new_col = [1, 2, 3]\n",
        "\n",
        "idx = 0\n",
        "df.insert(loc=idx, column='1', value=new_col)\n",
        "print(\"\\nNew DataFrame\")\n",
        "print(df)"
      ],
      "metadata": {
        "colab": {
          "base_uri": "https://localhost:8080/"
        },
        "id": "cvPAhadePzk3",
        "outputId": "aa89a50a-7480-4d12-f6f1-7f43ce5bd934"
      },
      "execution_count": null,
      "outputs": [
        {
          "output_type": "stream",
          "name": "stdout",
          "text": [
            "\n",
            "New DataFrame\n",
            "   1    0   1\n",
            "0  1  100  10\n",
            "1  2  200  20\n",
            "2  3  400  40\n"
          ]
        }
      ]
    },
    {
      "cell_type": "code",
      "source": [
        "import numpy as np\n",
        "arr=np.array([1,2,3,4])\n",
        "print(arr.mean())\n",
        "print(arr.min())\n",
        "print(arr.max())\n",
        "print(arr.std())"
      ],
      "metadata": {
        "id": "0W782CCh0shG",
        "colab": {
          "base_uri": "https://localhost:8080/"
        },
        "outputId": "742cb1b4-6e90-490e-82cc-454778629ba4"
      },
      "execution_count": null,
      "outputs": [
        {
          "output_type": "stream",
          "name": "stdout",
          "text": [
            "2.5\n",
            "1\n",
            "4\n",
            "1.118033988749895\n"
          ]
        }
      ]
    },
    {
      "cell_type": "code",
      "source": [
        "import numpy as np\n",
        "import random\n",
        "array=np.random.randint(16,size=(4,4))\n",
        "print(\"input array =in\",array)\n",
        "print(\"largest numner in x axis,\",np.max(array,axis=1))\n",
        "print(\"largest number in y axis,\",np.max(array,axis=0))"
      ],
      "metadata": {
        "colab": {
          "base_uri": "https://localhost:8080/"
        },
        "id": "pzL9pZUSv7qo",
        "outputId": "8cf71c7e-b92b-4f43-dd6d-a988e685cb49"
      },
      "execution_count": null,
      "outputs": [
        {
          "output_type": "stream",
          "name": "stdout",
          "text": [
            "input array =in [[ 9  7  6  9]\n",
            " [11 10 13 14]\n",
            " [11  2  9  9]\n",
            " [ 4  5  6  5]]\n",
            "largest numner in x axis, [ 9 14 11  6]\n",
            "largest number in y axis, [11 10 13 14]\n"
          ]
        }
      ]
    },
    {
      "cell_type": "code",
      "source": [
        "import numpy as np\n",
        "import random\n",
        "array = np.random.randint(16,size=(4,4))\n",
        "print(\"Input Array: \\n\",array)\n",
        "print(\"Smallest number in x axis: \",np.min(array,axis=1))\n",
        "print(\"Smallest number in y axis: \",np.min(array,axis=0))"
      ],
      "metadata": {
        "colab": {
          "base_uri": "https://localhost:8080/"
        },
        "id": "mVdyeZtSv7qL",
        "outputId": "9825c025-c594-4438-c0a0-5fe3ddc5d177"
      },
      "execution_count": null,
      "outputs": [
        {
          "output_type": "stream",
          "name": "stdout",
          "text": [
            "Input Array: \n",
            " [[10  6  5  9]\n",
            " [ 0 11  4 13]\n",
            " [11 13  6  9]\n",
            " [11 12  9  8]]\n",
            "Smallest number in x axis:  [5 0 6 8]\n",
            "Smallest number in y axis:  [0 6 4 8]\n"
          ]
        }
      ]
    },
    {
      "cell_type": "code",
      "source": [
        "import numpy as np\n",
        "arr=np.array([1,2,3,4])\n",
        "print(arr+2)"
      ],
      "metadata": {
        "colab": {
          "base_uri": "https://localhost:8080/"
        },
        "id": "_E22PVLwwTlb",
        "outputId": "9f04efea-caa2-49ba-d6dc-b484ac0bdf35"
      },
      "execution_count": null,
      "outputs": [
        {
          "output_type": "stream",
          "name": "stdout",
          "text": [
            "[3 4 5 6]\n"
          ]
        }
      ]
    },
    {
      "cell_type": "code",
      "source": [
        "import numpy as np\n",
        "arr=np.array([1,2,3,4])\n",
        "print(np.sin(arr))"
      ],
      "metadata": {
        "colab": {
          "base_uri": "https://localhost:8080/"
        },
        "id": "rfYyzwdawh1r",
        "outputId": "528c1503-3b00-434f-f288-9c7dc82abd8e"
      },
      "execution_count": null,
      "outputs": [
        {
          "output_type": "stream",
          "name": "stdout",
          "text": [
            "[ 0.84147098  0.90929743  0.14112001 -0.7568025 ]\n"
          ]
        }
      ]
    },
    {
      "cell_type": "code",
      "source": [
        "arr = np.array([1, 2, 3])\n",
        "arr2 = np.array([1, 2, 3])\n",
        "print(arr + arr2)"
      ],
      "metadata": {
        "colab": {
          "base_uri": "https://localhost:8080/"
        },
        "id": "ihjlH-LYwtEC",
        "outputId": "dee19ce8-2a10-4100-a918-db4cb59c6a21"
      },
      "execution_count": null,
      "outputs": [
        {
          "output_type": "stream",
          "name": "stdout",
          "text": [
            "[2 4 6]\n"
          ]
        }
      ]
    },
    {
      "cell_type": "code",
      "source": [
        "squared = list(map(lambda x: x**2, arr))\n",
        "print(\"Squared using map:\", squared)"
      ],
      "metadata": {
        "colab": {
          "base_uri": "https://localhost:8080/"
        },
        "id": "cxf1byJ8w5qy",
        "outputId": "b03c50d6-9884-4a7f-bcf0-59fe68737347"
      },
      "execution_count": null,
      "outputs": [
        {
          "output_type": "stream",
          "name": "stdout",
          "text": [
            "Squared using map: [np.int64(1), np.int64(4), np.int64(9)]\n"
          ]
        }
      ]
    },
    {
      "cell_type": "code",
      "source": [
        "def square(number):\n",
        "    return number*number\n",
        "nums= [1,2,3,4]\n",
        "squared_numbers = list(map(square,nums))\n",
        "print(squared_numbers)"
      ],
      "metadata": {
        "colab": {
          "base_uri": "https://localhost:8080/"
        },
        "id": "VvlkwhXTxKDi",
        "outputId": "158456a6-1687-4338-d0f0-043bb228cee2"
      },
      "execution_count": null,
      "outputs": [
        {
          "output_type": "stream",
          "name": "stdout",
          "text": [
            "[1, 4, 9, 16]\n"
          ]
        }
      ]
    },
    {
      "cell_type": "code",
      "source": [
        "nums1= [1,2,3,4,5,6]\n",
        "squareOfnums1 = list(map(lambda n:n*n,nums1))\n",
        "print(squareOfnums1)"
      ],
      "metadata": {
        "colab": {
          "base_uri": "https://localhost:8080/"
        },
        "id": "7YocwSMmxVn7",
        "outputId": "dc647022-4631-4983-93c0-942c0bdbde04"
      },
      "execution_count": null,
      "outputs": [
        {
          "output_type": "stream",
          "name": "stdout",
          "text": [
            "[1, 4, 9, 16, 25, 36]\n"
          ]
        }
      ]
    },
    {
      "cell_type": "code",
      "source": [
        "def is_even(n):\n",
        "if n % 2 ==0:\n",
        "return True\n",
        "else:\n",
        "return False\n",
        "nums = [1,2,3,4]\n",
        "evens = list(filter(is_even,nums))\n",
        "print(evens)"
      ],
      "metadata": {
        "id": "JaPz6PatxbeR"
      },
      "execution_count": null,
      "outputs": []
    },
    {
      "cell_type": "code",
      "source": [
        "ven = list(filter(lambda x: x % 2 == 0, arr))\n",
        "print(\"Even numbers:\", even)"
      ],
      "metadata": {
        "id": "RWa6WbGzxbaS"
      },
      "execution_count": null,
      "outputs": []
    },
    {
      "cell_type": "code",
      "source": [
        "def sum_all(a,b):\n",
        "return a+b\n",
        "nums = [1,2,3,4]\n",
        "sum = reduce(sum_all,nums)\n",
        "print(sum)"
      ],
      "metadata": {
        "id": "jGdYxDg-xn7U"
      },
      "execution_count": null,
      "outputs": []
    },
    {
      "cell_type": "code",
      "source": [
        "total = reduce(lambda x, y: x + y, arr)\n",
        "print(\"Sum using reduce:\", total)"
      ],
      "metadata": {
        "id": "C8vOdpP3xn0T"
      },
      "execution_count": null,
      "outputs": []
    },
    {
      "cell_type": "code",
      "source": [
        "nums = [1,2,3,4]\n",
        "evens = list(filter(lambda n:n%2==0,nums))\n",
        "print(evens)"
      ],
      "metadata": {
        "id": "DI-Cg9xnxnvp"
      },
      "execution_count": null,
      "outputs": []
    },
    {
      "cell_type": "code",
      "source": [
        "data = pd.Series([10, 20, 30, 40], index=['a', 'b', 'c', 'd'])\n",
        "print(data)"
      ],
      "metadata": {
        "id": "C1OTOTTVxnn5"
      },
      "execution_count": null,
      "outputs": []
    },
    {
      "cell_type": "code",
      "source": [
        "data = {\n",
        "    'Name': ['Alice', 'Bob', 'Charlie'],\n",
        "    'Age': [25, 30, 35],\n",
        "    'City': ['Delhi', 'Mumbai', 'Bangalore']\n",
        "}\n",
        "df = pd.DataFrame(data)\n",
        "print(df)"
      ],
      "metadata": {
        "id": "ekVAS2qAyEY9"
      },
      "execution_count": null,
      "outputs": []
    },
    {
      "cell_type": "code",
      "source": [
        "import pandas as pd\n",
        "# Reading from CSV\n",
        "df = pd.read_csv('/content/students.csv')\n",
        "# Writing to CSV\n",
        "df.to_csv('output.csv', index=False)\n",
        "print(df)"
      ],
      "metadata": {
        "colab": {
          "base_uri": "https://localhost:8080/"
        },
        "id": "9rA55j1syERh",
        "outputId": "a1b20a13-783f-4eb4-c83e-609ec1d87709"
      },
      "execution_count": null,
      "outputs": [
        {
          "output_type": "stream",
          "name": "stdout",
          "text": [
            "       names  S1  S2\n",
            "0      mahek  97  89\n",
            "1      laxmi  95  91\n",
            "2  vaishnavi  93  90\n"
          ]
        }
      ]
    },
    {
      "cell_type": "code",
      "source": [
        "import pandas as pd\n",
        "lst = ['Apple', 'Mango', 'Banana', 'Pine Apple', 'Grapes', 'Watermelon']\n",
        "\n",
        "df = pd.DataFrame(lst)\n",
        "print(df)"
      ],
      "metadata": {
        "colab": {
          "base_uri": "https://localhost:8080/"
        },
        "id": "Q0njZgki26Zt",
        "outputId": "95dea38f-3c17-4f1f-94de-4e78dc26a3a7"
      },
      "execution_count": null,
      "outputs": [
        {
          "output_type": "stream",
          "name": "stdout",
          "text": [
            "            0\n",
            "0       Apple\n",
            "1       Mango\n",
            "2      Banana\n",
            "3  Pine Apple\n",
            "4      Grapes\n",
            "5  Watermelon\n"
          ]
        }
      ]
    },
    {
      "cell_type": "code",
      "source": [
        "import pandas as pd\n",
        "data ={'Name':['Tom', 'nick', 'krish', 'jack'], 'Age':[20, 21, 19, 18]}\n",
        "df = pd.DataFrame(data)\n",
        "print(df)"
      ],
      "metadata": {
        "colab": {
          "base_uri": "https://localhost:8080/"
        },
        "id": "sZtU08Wn3xTD",
        "outputId": "e287a249-d03e-47b7-dd8c-63ddea0f842c"
      },
      "execution_count": null,
      "outputs": [
        {
          "output_type": "stream",
          "name": "stdout",
          "text": [
            "    Name  Age\n",
            "0    Tom   20\n",
            "1   nick   21\n",
            "2  krish   19\n",
            "3   jack   18\n"
          ]
        }
      ]
    },
    {
      "cell_type": "code",
      "source": [
        "import pandas as pd\n",
        "data = {\n",
        "    'Department': ['HR', 'HR', 'IT', 'IT', 'Finance', 'Finance'],\n",
        "    'Employee': ['Alice', 'Bob', 'Charlie', 'David', 'Eva', 'Frank'],\n",
        "    'Salary': [50000, 55000, 60000, 65000, 70000, 72000],\n",
        "     'Age': [25, 30, 28, 32, 40, 38]\n",
        "}\n",
        "df = pd.DataFrame(data)\n",
        "print(df)"
      ],
      "metadata": {
        "colab": {
          "base_uri": "https://localhost:8080/"
        },
        "id": "irxcvLt134nr",
        "outputId": "63cb8913-8aa3-4dfd-8312-710941285fcb"
      },
      "execution_count": null,
      "outputs": [
        {
          "output_type": "stream",
          "name": "stdout",
          "text": [
            "  Department Employee  Salary  Age\n",
            "0         HR    Alice   50000   25\n",
            "1         HR      Bob   55000   30\n",
            "2         IT  Charlie   60000   28\n",
            "3         IT    David   65000   32\n",
            "4    Finance      Eva   70000   40\n",
            "5    Finance    Frank   72000   38\n"
          ]
        }
      ]
    },
    {
      "cell_type": "code",
      "source": [
        "import pandas as pd\n",
        "d1 = {\"Name\": [\"Pankaj\", \"Lisa\", \"David\"], \"ID\": [1, 2, 3], \"Role\": [\"CEO\", \"Editor\", \"Author\"]}\n",
        "df = pd.DataFrame(d1)\n",
        "print(df)\n",
        "df_melted = pd.melt(df, id_vars=[\"ID\"],\n",
        "value_vars=[\"Name\", \"Role\"])\n",
        "print(df_melted)\n"
      ],
      "metadata": {
        "id": "H6B-WgC_4LDj",
        "colab": {
          "base_uri": "https://localhost:8080/"
        },
        "outputId": "bf388a20-e086-40d6-ca8d-093d82027c8f"
      },
      "execution_count": null,
      "outputs": [
        {
          "output_type": "stream",
          "name": "stdout",
          "text": [
            "     Name  ID    Role\n",
            "0  Pankaj   1     CEO\n",
            "1    Lisa   2  Editor\n",
            "2   David   3  Author\n",
            "   ID variable   value\n",
            "0   1     Name  Pankaj\n",
            "1   2     Name    Lisa\n",
            "2   3     Name   David\n",
            "3   1     Role     CEO\n",
            "4   2     Role  Editor\n",
            "5   3     Role  Author\n"
          ]
        }
      ]
    },
    {
      "cell_type": "code",
      "source": [
        "import pandas as pd\n",
        "data = {\n",
        "    'Date': ['2024-01-01', '2024-01-01', '2024-01-02', '2024-01-02'],\n",
        "    'City': ['Mumbai', 'Delhi', 'Mumbai', 'Delhi'],\n",
        "    'Temperature': [33, 28, 34, 27]\n",
        "}\n",
        "df = pd.DataFrame(data)\n",
        "print(\"Original:\\n\", df)\n",
        "pivoted = df.pivot(index='Date', columns='City', values='Temperature')\n",
        "print(\"\\nPivoted:\\n\", pivoted)"
      ],
      "metadata": {
        "colab": {
          "base_uri": "https://localhost:8080/"
        },
        "id": "5YQOZMEWBQYL",
        "outputId": "52ba32b4-d88f-41fc-906b-4d476623a9a9"
      },
      "execution_count": null,
      "outputs": [
        {
          "output_type": "stream",
          "name": "stdout",
          "text": [
            "Original:\n",
            "          Date    City  Temperature\n",
            "0  2024-01-01  Mumbai           33\n",
            "1  2024-01-01   Delhi           28\n",
            "2  2024-01-02  Mumbai           34\n",
            "3  2024-01-02   Delhi           27\n",
            "\n",
            "Pivoted:\n",
            " City        Delhi  Mumbai\n",
            "Date                     \n",
            "2024-01-01     28      33\n",
            "2024-01-02     27      34\n"
          ]
        }
      ]
    },
    {
      "cell_type": "code",
      "source": [
        "import pandas as pd\n",
        "# Create a sample DataFrame\n",
        "data = {\n",
        "    'Student': ['Alice', 'Bob', 'Charlie'],\n",
        "    'Math': [85, 90, 78],\n",
        "    'Science': [92, 88, 85],\n",
        "    'English': [75, 80, 72]\n",
        "}\n",
        "df = pd.DataFrame(data)\n",
        "print(\"Original Wide DataFrame:\\n\", df)\n"
      ],
      "metadata": {
        "colab": {
          "base_uri": "https://localhost:8080/"
        },
        "id": "nRw0-o73BR-a",
        "outputId": "defcda1b-ec7d-4688-f440-e741ab0184ea"
      },
      "execution_count": null,
      "outputs": [
        {
          "output_type": "stream",
          "name": "stdout",
          "text": [
            "Original Wide DataFrame:\n",
            "    Student  Math  Science  English\n",
            "0    Alice    85       92       75\n",
            "1      Bob    90       88       80\n",
            "2  Charlie    78       85       72\n"
          ]
        }
      ]
    },
    {
      "cell_type": "code",
      "source": [],
      "metadata": {
        "id": "qtPGDaXnDf7p"
      },
      "execution_count": null,
      "outputs": []
    }
  ]
}